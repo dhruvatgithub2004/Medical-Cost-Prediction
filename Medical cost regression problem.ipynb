{
 "cells": [
  {
   "cell_type": "code",
   "execution_count": 1,
   "id": "0eff7ea4",
   "metadata": {},
   "outputs": [],
   "source": [
    "import numpy as np\n",
    "import pandas as pd\n",
    "import matplotlib.pyplot as plt\n",
    "import seaborn as sns\n",
    "from sklearn.compose import ColumnTransformer\n",
    "from sklearn.preprocessing import OneHotEncoder\n",
    "from sklearn.preprocessing import StandardScaler\n",
    "from sklearn.model_selection import train_test_split , cross_val_score\n",
    "from sklearn.linear_model import LinearRegression\n",
    "from sklearn.metrics import mean_squared_error , r2_score , mean_absolute_error,accuracy_score"
   ]
  },
  {
   "cell_type": "code",
   "execution_count": 2,
   "id": "275b8d5c",
   "metadata": {},
   "outputs": [
    {
     "data": {
      "text/html": [
       "<div>\n",
       "<style scoped>\n",
       "    .dataframe tbody tr th:only-of-type {\n",
       "        vertical-align: middle;\n",
       "    }\n",
       "\n",
       "    .dataframe tbody tr th {\n",
       "        vertical-align: top;\n",
       "    }\n",
       "\n",
       "    .dataframe thead th {\n",
       "        text-align: right;\n",
       "    }\n",
       "</style>\n",
       "<table border=\"1\" class=\"dataframe\">\n",
       "  <thead>\n",
       "    <tr style=\"text-align: right;\">\n",
       "      <th></th>\n",
       "      <th>Age</th>\n",
       "      <th>Sex</th>\n",
       "      <th>BMI</th>\n",
       "      <th>Children</th>\n",
       "      <th>Smoker</th>\n",
       "      <th>Region</th>\n",
       "      <th>Medical Cost</th>\n",
       "    </tr>\n",
       "  </thead>\n",
       "  <tbody>\n",
       "    <tr>\n",
       "      <th>0</th>\n",
       "      <td>58</td>\n",
       "      <td>male</td>\n",
       "      <td>15.6</td>\n",
       "      <td>2</td>\n",
       "      <td>yes</td>\n",
       "      <td>northwest</td>\n",
       "      <td>17907.54</td>\n",
       "    </tr>\n",
       "    <tr>\n",
       "      <th>1</th>\n",
       "      <td>24</td>\n",
       "      <td>male</td>\n",
       "      <td>29.8</td>\n",
       "      <td>0</td>\n",
       "      <td>yes</td>\n",
       "      <td>northeast</td>\n",
       "      <td>16312.64</td>\n",
       "    </tr>\n",
       "    <tr>\n",
       "      <th>2</th>\n",
       "      <td>50</td>\n",
       "      <td>male</td>\n",
       "      <td>29.0</td>\n",
       "      <td>5</td>\n",
       "      <td>no</td>\n",
       "      <td>northwest</td>\n",
       "      <td>6819.21</td>\n",
       "    </tr>\n",
       "    <tr>\n",
       "      <th>3</th>\n",
       "      <td>35</td>\n",
       "      <td>male</td>\n",
       "      <td>34.0</td>\n",
       "      <td>1</td>\n",
       "      <td>no</td>\n",
       "      <td>southeast</td>\n",
       "      <td>5247.87</td>\n",
       "    </tr>\n",
       "    <tr>\n",
       "      <th>4</th>\n",
       "      <td>31</td>\n",
       "      <td>female</td>\n",
       "      <td>17.6</td>\n",
       "      <td>3</td>\n",
       "      <td>yes</td>\n",
       "      <td>southeast</td>\n",
       "      <td>17525.49</td>\n",
       "    </tr>\n",
       "  </tbody>\n",
       "</table>\n",
       "</div>"
      ],
      "text/plain": [
       "   Age     Sex   BMI  Children Smoker     Region  Medical Cost\n",
       "0   58    male  15.6         2    yes  northwest      17907.54\n",
       "1   24    male  29.8         0    yes  northeast      16312.64\n",
       "2   50    male  29.0         5     no  northwest       6819.21\n",
       "3   35    male  34.0         1     no  southeast       5247.87\n",
       "4   31  female  17.6         3    yes  southeast      17525.49"
      ]
     },
     "execution_count": 2,
     "metadata": {},
     "output_type": "execute_result"
    }
   ],
   "source": [
    "df=pd.read_csv(r\"C:\\Users\\dkdes\\OneDrive\\Desktop\\kaggle_datasets\\medical cost regression.csv\")\n",
    "df.head()"
   ]
  },
  {
   "cell_type": "code",
   "execution_count": 3,
   "id": "135d4c94",
   "metadata": {},
   "outputs": [
    {
     "name": "stdout",
     "output_type": "stream",
     "text": [
      "<class 'pandas.core.frame.DataFrame'>\n",
      "RangeIndex: 10000 entries, 0 to 9999\n",
      "Data columns (total 7 columns):\n",
      " #   Column        Non-Null Count  Dtype  \n",
      "---  ------        --------------  -----  \n",
      " 0   Age           10000 non-null  int64  \n",
      " 1   Sex           10000 non-null  object \n",
      " 2   BMI           10000 non-null  float64\n",
      " 3   Children      10000 non-null  int64  \n",
      " 4   Smoker        10000 non-null  object \n",
      " 5   Region        10000 non-null  object \n",
      " 6   Medical Cost  10000 non-null  float64\n",
      "dtypes: float64(2), int64(2), object(3)\n",
      "memory usage: 547.0+ KB\n"
     ]
    }
   ],
   "source": [
    "df.info()"
   ]
  },
  {
   "cell_type": "code",
   "execution_count": 4,
   "id": "f855f59d",
   "metadata": {},
   "outputs": [],
   "source": [
    "transformer = ColumnTransformer(\n",
    "    transformers=[\n",
    "        ('tnf1', OneHotEncoder(), [\"Sex\", \"Smoker\", \"Region\"]),\n",
    "        ('tnf2', StandardScaler(), [\"Age\", \"BMI\", \"Children\"])\n",
    "    ],\n",
    "    remainder=\"passthrough\"\n",
    ")\n"
   ]
  },
  {
   "cell_type": "code",
   "execution_count": 5,
   "id": "45256eb1",
   "metadata": {},
   "outputs": [],
   "source": [
    "X=df.drop(\"Medical Cost\",axis=1)\n",
    "y=df[\"Medical Cost\"]"
   ]
  },
  {
   "cell_type": "code",
   "execution_count": 6,
   "id": "0d4ed0d3",
   "metadata": {},
   "outputs": [],
   "source": [
    "X_train , X_test , y_train , y_test = train_test_split(X,y,test_size=0.2)\n"
   ]
  },
  {
   "cell_type": "code",
   "execution_count": 7,
   "id": "40ce1467",
   "metadata": {},
   "outputs": [],
   "source": [
    "X_train_trf=transformer.fit_transform(X_train)\n",
    "X_test_trf=transformer.transform(X_test)"
   ]
  },
  {
   "cell_type": "code",
   "execution_count": 8,
   "id": "6472053e",
   "metadata": {},
   "outputs": [
    {
     "data": {
      "text/plain": [
       "0.9977246426257815"
      ]
     },
     "execution_count": 8,
     "metadata": {},
     "output_type": "execute_result"
    }
   ],
   "source": [
    "lr=LinearRegression()\n",
    "lr.fit(X_train_trf,y_train)\n",
    "y_pred=lr.predict(X_test_trf)\n",
    "score=r2_score(y_pred,y_test)\n",
    "score"
   ]
  },
  {
   "cell_type": "code",
   "execution_count": 9,
   "id": "29ce5adb",
   "metadata": {},
   "outputs": [
    {
     "name": "stdout",
     "output_type": "stream",
     "text": [
      "model on test data 0.9977296928614916\n",
      "model on training data 0.9977099933763421\n"
     ]
    }
   ],
   "source": [
    "# Checking if the model is Overfitting\n",
    "print(\"model on test data\",np.mean(cross_val_score(lr,X_test_trf,y_test,cv=5,scoring=\"r2\")))\n",
    "print(\"model on training data\",np.mean(cross_val_score(lr,X_train_trf,y_train,cv=5,scoring=\"r2\")))"
   ]
  },
  {
   "cell_type": "code",
   "execution_count": 33,
   "id": "8289523b",
   "metadata": {},
   "outputs": [],
   "source": [
    "from sklearn.pipeline import Pipeline\n",
    "import pickle as pkl"
   ]
  },
  {
   "cell_type": "code",
   "execution_count": 40,
   "id": "8f32a6fc",
   "metadata": {},
   "outputs": [],
   "source": [
    "pipeline=Pipeline([(\"transformer\",transformer),\n",
    "                   (\"Regression\",lr)])"
   ]
  },
  {
   "cell_type": "code",
   "execution_count": 41,
   "id": "a92cc568",
   "metadata": {},
   "outputs": [],
   "source": [
    "with open(\"medical Cost prediction.pkl\",\"wb\") as file:\n",
    "    pkl.dump(pipeline,file)"
   ]
  }
 ],
 "metadata": {
  "kernelspec": {
   "display_name": "Python 3 (ipykernel)",
   "language": "python",
   "name": "python3"
  },
  "language_info": {
   "codemirror_mode": {
    "name": "ipython",
    "version": 3
   },
   "file_extension": ".py",
   "mimetype": "text/x-python",
   "name": "python",
   "nbconvert_exporter": "python",
   "pygments_lexer": "ipython3",
   "version": "3.10.4"
  }
 },
 "nbformat": 4,
 "nbformat_minor": 5
}
